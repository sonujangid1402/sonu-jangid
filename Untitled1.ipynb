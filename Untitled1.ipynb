{
  "nbformat": 4,
  "nbformat_minor": 0,
  "metadata": {
    "colab": {
      "provenance": [],
      "authorship_tag": "ABX9TyPo3rUbx52q4kYGkeMC6u8S",
      "include_colab_link": true
    },
    "kernelspec": {
      "name": "python3",
      "display_name": "Python 3"
    },
    "language_info": {
      "name": "python"
    }
  },
  "cells": [
    {
      "cell_type": "markdown",
      "metadata": {
        "id": "view-in-github",
        "colab_type": "text"
      },
      "source": [
        "<a href=\"https://colab.research.google.com/github/sonujangid1402/sonu-jangid/blob/main/Untitled1.ipynb\" target=\"_parent\"><img src=\"https://colab.research.google.com/assets/colab-badge.svg\" alt=\"Open In Colab\"/></a>"
      ]
    },
    {
      "cell_type": "code",
      "execution_count": 5,
      "metadata": {
        "colab": {
          "base_uri": "https://localhost:8080/"
        },
        "id": "EpG7oHS1tmkv",
        "outputId": "b6ca11be-2cca-42f5-c605-ad6f8da67bc6"
      },
      "outputs": [
        {
          "output_type": "stream",
          "name": "stdout",
          "text": [
            "enter value2\n",
            "enter value4\n",
            "enter value9\n",
            "c is bigger\n"
          ]
        }
      ],
      "source": [
        "a=input(\"enter value\")\n",
        "a=int(a)\n",
        "b=input(\"enter value\")\n",
        "b=int(b)\n",
        "c=input(\"enter value\")\n",
        "c=int(c)\n",
        "if a>b:\n",
        "  print('a is bigger')\n",
        "elif b>c:\n",
        "  print('b is bigger')\n",
        "else:\n",
        "  print('c is bigger')"
      ]
    },
    {
      "cell_type": "code",
      "source": [
        "a=input(\"enter a value\")\n",
        "a=int(a)\n",
        "if a/2==0:\n",
        " print('a div by 2')\n",
        "else:\n",
        "   print('a is not div by 2')\n"
      ],
      "metadata": {
        "colab": {
          "base_uri": "https://localhost:8080/"
        },
        "id": "eix99_5Oy3bu",
        "outputId": "5650c16e-c659-4c47-f670-0ac0df512b4e"
      },
      "execution_count": 11,
      "outputs": [
        {
          "output_type": "stream",
          "name": "stdout",
          "text": [
            "enter a value3\n",
            "a is not div by 2\n"
          ]
        }
      ]
    },
    {
      "cell_type": "code",
      "source": [
        "a=input(\"enter value\")\n",
        "a=int(a)\n",
        "b=input(\"enter valu\")\n",
        "b=int(b)\n",
        "if a>b:\n",
        "  print('a is greater')\n",
        "if a<b:\n",
        "  print('b is greater')\n",
        "else :\n",
        "  print('equal')"
      ],
      "metadata": {
        "colab": {
          "base_uri": "https://localhost:8080/"
        },
        "id": "44Xoa1jL1Gly",
        "outputId": "d398a8ac-50e8-409b-899c-876a6df91f90"
      },
      "execution_count": 22,
      "outputs": [
        {
          "output_type": "stream",
          "name": "stdout",
          "text": [
            "enter value3\n",
            "enter valu5\n",
            "b is greater\n"
          ]
        }
      ]
    }
  ]
}