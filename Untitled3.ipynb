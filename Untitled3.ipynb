{
  "nbformat": 4,
  "nbformat_minor": 0,
  "metadata": {
    "colab": {
      "provenance": [],
      "authorship_tag": "ABX9TyPZeSpa9S4f2tkk2DGAVJ3h",
      "include_colab_link": true
    },
    "kernelspec": {
      "name": "python3",
      "display_name": "Python 3"
    },
    "language_info": {
      "name": "python"
    }
  },
  "cells": [
    {
      "cell_type": "markdown",
      "metadata": {
        "id": "view-in-github",
        "colab_type": "text"
      },
      "source": [
        "<a href=\"https://colab.research.google.com/github/sonujangid1402/sonu-jangid/blob/main/Untitled3.ipynb\" target=\"_parent\"><img src=\"https://colab.research.google.com/assets/colab-badge.svg\" alt=\"Open In Colab\"/></a>"
      ]
    },
    {
      "cell_type": "code",
      "source": [
        "def add (a,b):\n",
        "  c=(a+b)\n",
        "  print(c)\n",
        "add(10,40)"
      ],
      "metadata": {
        "colab": {
          "base_uri": "https://localhost:8080/"
        },
        "id": "1wPF0Su4-hhD",
        "outputId": "aa0fea1f-21c2-4874-d9fb-60b6e88f69c0"
      },
      "execution_count": 15,
      "outputs": [
        {
          "output_type": "stream",
          "name": "stdout",
          "text": [
            "50\n"
          ]
        }
      ]
    },
    {
      "cell_type": "code",
      "source": [
        "def sub(a,b):\n",
        " c=(a-b)\n",
        " print(c)\n",
        "sub(40,20)"
      ],
      "metadata": {
        "colab": {
          "base_uri": "https://localhost:8080/"
        },
        "id": "VuTmBbV4Cgm_",
        "outputId": "d07857bd-8dc8-48f9-8eae-f1f6ed5acd4a"
      },
      "execution_count": 19,
      "outputs": [
        {
          "output_type": "stream",
          "name": "stdout",
          "text": [
            "20\n"
          ]
        }
      ]
    },
    {
      "cell_type": "code",
      "execution_count": 26,
      "metadata": {
        "colab": {
          "base_uri": "https://localhost:8080/"
        },
        "id": "kf9D_OMW7ybL",
        "outputId": "207ae0c4-e27b-43df-df83-c19f2f47dc1b"
      },
      "outputs": [
        {
          "output_type": "stream",
          "name": "stdout",
          "text": [
            "5\n",
            "4\n",
            "3\n",
            "2\n",
            "1\n"
          ]
        }
      ],
      "source": [
        "def add(*arg):\n",
        "  length=len(arg)\n",
        "  print(arg[length-1])\n",
        "add(1,2,3,4,5)\n",
        "add(1,2,3,4)\n",
        "add(1,2,3)\n",
        "add(1,2)\n",
        "add(1)"
      ]
    },
    {
      "cell_type": "code",
      "source": [
        "num1=int(input(\"enter value\"))\n",
        "num2=int(input(\"enter value\"))\n",
        "def sum(num1,num2):\n",
        "  return(num1+num2)\n",
        "print(\"addition\",sum(num1,num2))\n",
        "\n"
      ],
      "metadata": {
        "colab": {
          "base_uri": "https://localhost:8080/"
        },
        "id": "bh37mqdKFkWD",
        "outputId": "f55d2cff-74b3-4a5f-b27a-d6a27a24ef9a"
      },
      "execution_count": 39,
      "outputs": [
        {
          "output_type": "stream",
          "name": "stdout",
          "text": [
            "enter value2\n",
            "enter value4\n",
            "addition 6\n"
          ]
        }
      ]
    }
  ]
}