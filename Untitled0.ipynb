{
  "nbformat": 4,
  "nbformat_minor": 0,
  "metadata": {
    "colab": {
      "provenance": [],
      "authorship_tag": "ABX9TyM59HRhZaolH7yVmzJK5seu",
      "include_colab_link": true
    },
    "kernelspec": {
      "name": "python3",
      "display_name": "Python 3"
    },
    "language_info": {
      "name": "python"
    }
  },
  "cells": [
    {
      "cell_type": "markdown",
      "metadata": {
        "id": "view-in-github",
        "colab_type": "text"
      },
      "source": [
        "<a href=\"https://colab.research.google.com/github/sonujangid1402/sonu-jangid/blob/main/Untitled0.ipynb\" target=\"_parent\"><img src=\"https://colab.research.google.com/assets/colab-badge.svg\" alt=\"Open In Colab\"/></a>"
      ]
    },
    {
      "cell_type": "code",
      "execution_count": 2,
      "metadata": {
        "colab": {
          "base_uri": "https://localhost:8080/"
        },
        "id": "7M3YkZV-tKCV",
        "outputId": "a39471e9-2e10-41b1-8d87-39164f911adc"
      },
      "outputs": [
        {
          "output_type": "stream",
          "name": "stdout",
          "text": [
            "enter the value a11\n",
            "enter the value b22\n",
            "33\n"
          ]
        }
      ],
      "source": [
        "a=input(\"enter the value a\")\n",
        "b=input(\"enter the value b\")\n",
        "c=int(a)+int(b)\n",
        "print (c)\n"
      ]
    },
    {
      "cell_type": "code",
      "source": [
        "a=input(\"enter the value\")\n",
        "b=input(\"enter the value\")\n",
        "c=type(a+b)\n",
        "print (c)"
      ],
      "metadata": {
        "colab": {
          "base_uri": "https://localhost:8080/"
        },
        "id": "b1IMxHUXuCKj",
        "outputId": "9c399fd5-cf84-43f4-85ac-d2839b4d7c14"
      },
      "execution_count": 6,
      "outputs": [
        {
          "output_type": "stream",
          "name": "stdout",
          "text": [
            "enter the value11\n",
            "enter the value22\n",
            "<class 'str'>\n"
          ]
        }
      ]
    },
    {
      "cell_type": "code",
      "source": [
        "a=int(input(\"enter a number\"))\n",
        "b=int(input(\"enter a number\"))\n",
        "c=int(a+b),(a*b),(a-b),(a/b),(a%b)\n",
        "print (c)"
      ],
      "metadata": {
        "colab": {
          "base_uri": "https://localhost:8080/"
        },
        "id": "llhG82xmyesb",
        "outputId": "23f7bbe1-ce8a-477e-939f-cf5e83e36742"
      },
      "execution_count": 8,
      "outputs": [
        {
          "output_type": "stream",
          "name": "stdout",
          "text": [
            "enter a number11\n",
            "enter a number10\n",
            "(21, 110, 1, 1.1, 1)\n"
          ]
        }
      ]
    }
  ]
}