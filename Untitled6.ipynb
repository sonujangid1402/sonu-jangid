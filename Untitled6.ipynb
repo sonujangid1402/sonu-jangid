{
  "nbformat": 4,
  "nbformat_minor": 0,
  "metadata": {
    "colab": {
      "provenance": [],
      "authorship_tag": "ABX9TyO4d/EmT9atAhiyzdHOVsF8",
      "include_colab_link": true
    },
    "kernelspec": {
      "name": "python3",
      "display_name": "Python 3"
    },
    "language_info": {
      "name": "python"
    }
  },
  "cells": [
    {
      "cell_type": "markdown",
      "metadata": {
        "id": "view-in-github",
        "colab_type": "text"
      },
      "source": [
        "<a href=\"https://colab.research.google.com/github/sonujangid1402/sonu-jangid/blob/main/Untitled6.ipynb\" target=\"_parent\"><img src=\"https://colab.research.google.com/assets/colab-badge.svg\" alt=\"Open In Colab\"/></a>"
      ]
    },
    {
      "cell_type": "code",
      "execution_count": 6,
      "metadata": {
        "colab": {
          "base_uri": "https://localhost:8080/"
        },
        "id": "HftvOUi8Lfcc",
        "outputId": "a989268f-930f-4476-f775-97525f242b6e"
      },
      "outputs": [
        {
          "output_type": "stream",
          "name": "stdout",
          "text": [
            "hello sonu\n",
            "['hello', 'sonu']\n",
            "olleh unos \n"
          ]
        }
      ],
      "source": [
        "a=input()\n",
        "revs=\"\"\n",
        "res=a.split()\n",
        "print(res)\n",
        "\n",
        "for i in res:\n",
        "  #print(i)\n",
        "  str=i\n",
        "  rev=\"\"\n",
        "  length=len(str)\n",
        "  while length>0:\n",
        "    length-=1\n",
        "    rev+=str[length]\n",
        "    #print(rev)\n",
        "  revs=revs+rev+\" \"\n",
        "print(revs)"
      ]
    }
  ]
}