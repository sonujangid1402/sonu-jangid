{
  "nbformat": 4,
  "nbformat_minor": 0,
  "metadata": {
    "colab": {
      "provenance": [],
      "authorship_tag": "ABX9TyNDMRmt2+k+5mSbMobr1Fbj",
      "include_colab_link": true
    },
    "kernelspec": {
      "name": "python3",
      "display_name": "Python 3"
    },
    "language_info": {
      "name": "python"
    }
  },
  "cells": [
    {
      "cell_type": "markdown",
      "metadata": {
        "id": "view-in-github",
        "colab_type": "text"
      },
      "source": [
        "<a href=\"https://colab.research.google.com/github/sonujangid1402/sonu-jangid/blob/main/predict_py.ipynb\" target=\"_parent\"><img src=\"https://colab.research.google.com/assets/colab-badge.svg\" alt=\"Open In Colab\"/></a>"
      ]
    },
    {
      "cell_type": "code",
      "execution_count": 2,
      "metadata": {
        "colab": {
          "base_uri": "https://localhost:8080/"
        },
        "id": "ZqrQdWWDOEci",
        "outputId": "40b2e16e-80ec-4722-8b9d-09a6be4b939f"
      },
      "outputs": [
        {
          "output_type": "stream",
          "name": "stdout",
          "text": [
            "[ 100  200  300  400  500  600  700  800  900 1000]\n",
            "<class 'numpy.ndarray'>\n"
          ]
        }
      ],
      "source": [
        "import numpy as np\n",
        "import sklearn as sk\n",
        "home=[1000,2000,3000,4000,5000,6000,7000,8000,9000,10000]\n",
        "price=[100,200,300,400,500,600,700,800,900,1000]\n",
        "x=np.array(home)\n",
        "y=np.array(price)\n",
        "print(arr)\n",
        "print(type(arr))"
      ]
    },
    {
      "cell_type": "code",
      "source": [
        "# import packages\n",
        "import numpy as np\n",
        "import sklearn as sk\n",
        "from sklearn.model_selection import train_test_split\n",
        "home = np.array([1000,2000,3000,4000,5000,6000,7000,8000,9000,10000])\n",
        "price = np.array([100,200,300,400,500,600,700,800,900,1000])\n",
        "print(home)\n",
        "print(price)\n",
        "\n",
        "\n",
        "home_train,home_test,price_train,price_test = train_test_split(\n",
        "    home,price,random_state=41,test_size=0.5,shuffle=True)\n",
        "print(\"home_train:\",home_train)\n",
        "print(\"home_test:\",home_test)\n",
        "print(\"price_train:\",price_train)\n",
        "print(\"price_test:\",price_test)\n"
      ],
      "metadata": {
        "colab": {
          "base_uri": "https://localhost:8080/"
        },
        "id": "hETUS2m-VMf2",
        "outputId": "debce667-c8e0-4fad-85f5-c9c5b7715845"
      },
      "execution_count": 5,
      "outputs": [
        {
          "output_type": "stream",
          "name": "stdout",
          "text": [
            "[ 1000  2000  3000  4000  5000  6000  7000  8000  9000 10000]\n",
            "[ 100  200  300  400  500  600  700  800  900 1000]\n",
            "home_train: [10000  3000  5000  4000  1000]\n",
            "home_test: [6000 7000 8000 9000 2000]\n",
            "price_train: [1000  300  500  400  100]\n",
            "price_test: [600 700 800 900 200]\n"
          ]
        }
      ]
    },
    {
      "cell_type": "code",
      "source": [
        "# import packages\n",
        "import numpy as np\n",
        "import sklearn as sk\n",
        "from sklearn.model_selection import train_test_split\n",
        "from sklearn.linear_model import LinearRegression\n",
        "home = np.array([1000,2000,3000,4000,5000])\n",
        "price = np.array([100,200,300,400,500])\n",
        "print(home)\n",
        "print(price)\n",
        "\n",
        "\n",
        "home_train,home_test,price_train,price_test = train_test_split(\n",
        "    home,price,random_state=41,test_size=0.5,shuffle=True)\n",
        "print(\"home_train:\",home_train)\n",
        "print(\"home_test:\",home_test)\n",
        "print(\"price_train:\",price_train)\n",
        "print(\"price_test:\",price_test)\n",
        "home_train =home_train.reshape(-1,1)\n",
        "home_test = home_test.reshape(-1,1)\n",
        "price_train=price_train.reshape(-1,1)\n",
        "price_test=price_test.reshape(-1,1)\n",
        "regr = LinearRegression()\n",
        "\n",
        "regr.fit(home_train.reshape(-1,1),price_train.reshape(-1,1))\n",
        "print(regr.score(home_test.reshape(-1,1),price_test.reshape(-1,1)))\n",
        "print(regr.predict(home_test.reshape(-1,1)))"
      ],
      "metadata": {
        "colab": {
          "base_uri": "https://localhost:8080/"
        },
        "id": "NYZj3fssjad8",
        "outputId": "7553cd22-3380-4c01-d674-90ac5ba291e6"
      },
      "execution_count": 12,
      "outputs": [
        {
          "output_type": "stream",
          "name": "stdout",
          "text": [
            "[1000 2000 3000 4000 5000]\n",
            "[100 200 300 400 500]\n",
            "home_train: [4000 1000]\n",
            "home_test: [2000 3000 5000]\n",
            "price_train: [400 100]\n",
            "price_test: [200 300 500]\n",
            "1.0\n",
            "[[200.]\n",
            " [300.]\n",
            " [500.]]\n"
          ]
        }
      ]
    },
    {
      "cell_type": "code",
      "source": [],
      "metadata": {
        "id": "UzCxWgE1jlHL"
      },
      "execution_count": null,
      "outputs": []
    }
  ]
}