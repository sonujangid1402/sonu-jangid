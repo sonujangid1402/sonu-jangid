{
  "nbformat": 4,
  "nbformat_minor": 0,
  "metadata": {
    "colab": {
      "provenance": [],
      "authorship_tag": "ABX9TyOCXyu0QibSubSqqWDqKPV9",
      "include_colab_link": true
    },
    "kernelspec": {
      "name": "python3",
      "display_name": "Python 3"
    },
    "language_info": {
      "name": "python"
    }
  },
  "cells": [
    {
      "cell_type": "markdown",
      "metadata": {
        "id": "view-in-github",
        "colab_type": "text"
      },
      "source": [
        "<a href=\"https://colab.research.google.com/github/sonujangid1402/sonu-jangid/blob/main/Untitled9.ipynb\" target=\"_parent\"><img src=\"https://colab.research.google.com/assets/colab-badge.svg\" alt=\"Open In Colab\"/></a>"
      ]
    },
    {
      "cell_type": "code",
      "execution_count": null,
      "metadata": {
        "colab": {
          "base_uri": "https://localhost:8080/"
        },
        "id": "E8hhsl2iz2ql",
        "outputId": "ef3939d3-1763-4508-ac5c-adac95b8a81c"
      },
      "outputs": [
        {
          "output_type": "stream",
          "name": "stdout",
          "text": [
            "enter guess number24\n",
            "77\n",
            "lesser no.\n",
            "guess number101\n",
            "greater no.\n"
          ]
        }
      ],
      "source": [
        "import random\n",
        "num=random.randint(1,100)\n",
        "a=int(input('enter guess number'))\n",
        "print(num)\n",
        "count=0\n",
        "while not num==a:\n",
        "  if num>a:\n",
        "    print(\"lesser no.\")\n",
        "  if num<a:\n",
        "      print(\"greater no.\")\n",
        "  count+=1\n",
        "  a=int(input('guess number'))\n",
        "print(count)\n",
        "if num==a:\n",
        "        print(num)\n",
        ""
      ]
    }
  ]
}