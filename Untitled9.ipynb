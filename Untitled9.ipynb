{
  "nbformat": 4,
  "nbformat_minor": 0,
  "metadata": {
    "colab": {
      "provenance": [],
      "authorship_tag": "ABX9TyMuTvFs4D1jf5q+L3eJoqO4",
      "include_colab_link": true
    },
    "kernelspec": {
      "name": "python3",
      "display_name": "Python 3"
    },
    "language_info": {
      "name": "python"
    }
  },
  "cells": [
    {
      "cell_type": "markdown",
      "metadata": {
        "id": "view-in-github",
        "colab_type": "text"
      },
      "source": [
        "<a href=\"https://colab.research.google.com/github/sonujangid1402/sonu-jangid/blob/main/Untitled9.ipynb\" target=\"_parent\"><img src=\"https://colab.research.google.com/assets/colab-badge.svg\" alt=\"Open In Colab\"/></a>"
      ]
    },
    {
      "cell_type": "code",
      "execution_count": null,
      "metadata": {
        "colab": {
          "base_uri": "https://localhost:8080/"
        },
        "id": "E8hhsl2iz2ql",
        "outputId": "ef3939d3-1763-4508-ac5c-adac95b8a81c"
      },
      "outputs": [
        {
          "output_type": "stream",
          "name": "stdout",
          "text": [
            "enter guess number24\n",
            "77\n",
            "lesser no.\n",
            "guess number101\n",
            "greater no.\n"
          ]
        }
      ],
      "source": [
        "import random\n",
        "num=random.randint(1,100)\n",
        "a=int(input('enter guess number'))\n",
        "print(num)\n",
        "count=0\n",
        "while not num==a:\n",
        "  if num>a:\n",
        "    print(\"lesser no.\")\n",
        "  if num<a:\n",
        "      print(\"greater no.\")\n",
        "  count+=1\n",
        "  a=int(input('guess number'))\n",
        "print(count)\n",
        "if num==a:\n",
        "        print(num)\n"
      ]
    },
    {
      "cell_type": "code",
      "source": [
        "a=int(input('enter marks:'))\n",
        "b=(a/100)*100\n",
        "print(b)\n",
        "if b>90:\n",
        "  print(\"A\")\n",
        "elif b>80 and b<91:\n",
        "    print(\"B\")\n",
        "elif b>70 and b<81:\n",
        "    print(\"C\")\n",
        "else:\n",
        "    print(\"fail\")"
      ],
      "metadata": {
        "id": "gGMl07ohAcJQ",
        "outputId": "b86f6205-75b5-4ee5-c2e2-888e34634045",
        "colab": {
          "base_uri": "https://localhost:8080/"
        }
      },
      "execution_count": 5,
      "outputs": [
        {
          "output_type": "stream",
          "name": "stdout",
          "text": [
            "enter marks:79\n",
            "79.0\n",
            "C\n"
          ]
        }
      ]
    }
  ]
}