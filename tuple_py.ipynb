{
  "nbformat": 4,
  "nbformat_minor": 0,
  "metadata": {
    "colab": {
      "provenance": [],
      "authorship_tag": "ABX9TyNG8KhC9aFX0UgR0AMDdXIj",
      "include_colab_link": true
    },
    "kernelspec": {
      "name": "python3",
      "display_name": "Python 3"
    },
    "language_info": {
      "name": "python"
    }
  },
  "cells": [
    {
      "cell_type": "markdown",
      "metadata": {
        "id": "view-in-github",
        "colab_type": "text"
      },
      "source": [
        "<a href=\"https://colab.research.google.com/github/sonujangid1402/sonu-jangid/blob/main/tuple_py.ipynb\" target=\"_parent\"><img src=\"https://colab.research.google.com/assets/colab-badge.svg\" alt=\"Open In Colab\"/></a>"
      ]
    },
    {
      "cell_type": "code",
      "execution_count": 1,
      "metadata": {
        "colab": {
          "base_uri": "https://localhost:8080/"
        },
        "id": "yNVpg0zcoQjV",
        "outputId": "e6420975-2ef8-4aff-d57f-ecd088de7504"
      },
      "outputs": [
        {
          "output_type": "stream",
          "name": "stdout",
          "text": [
            "garima\n",
            "['sonu', 'garima', 'sejal']\n",
            "('sonu', 'garima', 'sejal', 'rashi')\n"
          ]
        }
      ],
      "source": [
        "name=(\"sonu\",\"garima\",\"sejal\")\n",
        "print(name[1])\n",
        "name1=list(name)\n",
        "print(name1)\n",
        "name1.append(\"rashi\")\n",
        "name=tuple(name1)\n",
        "print(name)"
      ]
    },
    {
      "cell_type": "code",
      "source": [
        "name=(\"sonu\",\"garima\",\"sejal\")\n",
        "print(name[1])\n",
        "name1=list(name)\n",
        "print(name1)\n",
        "name1.remove(\"sejal\")\n",
        "name=tuple(name1)\n",
        "print(name)"
      ],
      "metadata": {
        "colab": {
          "base_uri": "https://localhost:8080/"
        },
        "id": "UYySURHmo6v0",
        "outputId": "8ea335a9-b457-48e2-d172-ed32daf7dd88"
      },
      "execution_count": 3,
      "outputs": [
        {
          "output_type": "stream",
          "name": "stdout",
          "text": [
            "garima\n",
            "['sonu', 'garima', 'sejal']\n",
            "('sonu', 'garima')\n"
          ]
        }
      ]
    },
    {
      "cell_type": "code",
      "source": [
        "names=(\"sonu\",\"garima\",\"sonu\",\"sejal\")\n",
        "res=[]\n",
        "length=len(names)\n",
        "print(length)\n",
        "for j in range(len(names)):\n",
        "  my_names=names[j]\n",
        "  count=0\n",
        "  for i in range(len(names)):\n",
        "     if i==j:\n",
        "      continue\n",
        "     if names[i]==names[j]:\n",
        "        count+=1\n",
        "        if count>0:\n",
        "          if my_names not in res:\n",
        "             res.append(my_names)\n",
        "             print(res)"
      ],
      "metadata": {
        "colab": {
          "base_uri": "https://localhost:8080/"
        },
        "id": "FAIFm-LEpjJ0",
        "outputId": "d22e9558-afd0-40f6-e3a9-cac6178d2789"
      },
      "execution_count": 19,
      "outputs": [
        {
          "output_type": "stream",
          "name": "stdout",
          "text": [
            "4\n",
            "['sonu']\n"
          ]
        }
      ]
    }
  ]
}