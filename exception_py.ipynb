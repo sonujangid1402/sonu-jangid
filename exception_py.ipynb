{
  "nbformat": 4,
  "nbformat_minor": 0,
  "metadata": {
    "colab": {
      "provenance": [],
      "authorship_tag": "ABX9TyPZIXQiT4Ra57/skE3SWjbs",
      "include_colab_link": true
    },
    "kernelspec": {
      "name": "python3",
      "display_name": "Python 3"
    },
    "language_info": {
      "name": "python"
    }
  },
  "cells": [
    {
      "cell_type": "markdown",
      "metadata": {
        "id": "view-in-github",
        "colab_type": "text"
      },
      "source": [
        "<a href=\"https://colab.research.google.com/github/sonujangid1402/sonu-jangid/blob/main/exception_py.ipynb\" target=\"_parent\"><img src=\"https://colab.research.google.com/assets/colab-badge.svg\" alt=\"Open In Colab\"/></a>"
      ]
    },
    {
      "cell_type": "code",
      "execution_count": 4,
      "metadata": {
        "colab": {
          "base_uri": "https://localhost:8080/"
        },
        "id": "RIHO6JDHTs6i",
        "outputId": "f320d96a-725a-490b-abea-b91e0caff92b"
      },
      "outputs": [
        {
          "output_type": "stream",
          "name": "stdout",
          "text": [
            "error:cannot add an int and str\n"
          ]
        }
      ],
      "source": [
        "a=\"sonu\"\n",
        "b=10\n",
        "try:\n",
        "  c=a+b\n",
        "except TypeError:\n",
        "    print(\"error:cannot add an int and str\")\n"
      ]
    },
    {
      "cell_type": "code",
      "source": [
        "a=100\n",
        "try:\n",
        "  b=a/0\n",
        "except ZeroDivisionError:\n",
        "    print(\"error:no. cannot divide by 0\")"
      ],
      "metadata": {
        "colab": {
          "base_uri": "https://localhost:8080/"
        },
        "id": "sCPIj9e4X0j3",
        "outputId": "70679a84-1685-40a9-c2a5-aca1540d4058"
      },
      "execution_count": 5,
      "outputs": [
        {
          "output_type": "stream",
          "name": "stdout",
          "text": [
            "error:no. cannot divide by 0\n"
          ]
        }
      ]
    },
    {
      "cell_type": "code",
      "source": [
        "from logging import exception\n",
        "a=10\n",
        "a=int(a)\n",
        "for i in range(a):\n",
        "  try:\n",
        "    if i==5:\n",
        "      raise Exception(\"wrong no.\")\n",
        "  except Exception as b:\n",
        "    print(b)\n",
        "    print(\"5\")"
      ],
      "metadata": {
        "colab": {
          "base_uri": "https://localhost:8080/"
        },
        "id": "OfgOgSSaYx-T",
        "outputId": "1d7d9c44-beaa-4230-fcdf-7da72f6d90c5"
      },
      "execution_count": 9,
      "outputs": [
        {
          "output_type": "stream",
          "name": "stdout",
          "text": [
            "wrong no.\n",
            "5\n"
          ]
        }
      ]
    },
    {
      "cell_type": "code",
      "source": [
        "try:\n",
        "    a = 5/0\n",
        "except ZeroDivisionError:\n",
        "    print(\"Can't divide by zero\")\n",
        "finally:\n",
        "    print('This is always executed')"
      ],
      "metadata": {
        "colab": {
          "base_uri": "https://localhost:8080/"
        },
        "id": "9bIfs1fgbcBE",
        "outputId": "d8e619e7-10d1-464e-efda-24ce9e335639"
      },
      "execution_count": 13,
      "outputs": [
        {
          "output_type": "stream",
          "name": "stdout",
          "text": [
            "Can't divide by zero\n",
            "This is always executed\n"
          ]
        }
      ]
    },
    {
      "cell_type": "code",
      "source": [
        "try:\n",
        "  a=10/0\n",
        "except ZeroDivisionError:\n",
        "    print(\"can't divide by 0\")\n",
        "else:\n",
        "    print(\"10 divide by 0\")\n",
        "finally:\n",
        "    print(\"always executed\")"
      ],
      "metadata": {
        "colab": {
          "base_uri": "https://localhost:8080/"
        },
        "id": "cMEgsWvDbby6",
        "outputId": "1af9b98e-c359-4e58-c229-7e88288ecc59"
      },
      "execution_count": 14,
      "outputs": [
        {
          "output_type": "stream",
          "name": "stdout",
          "text": [
            "can't divide by 0\n",
            "always executed\n"
          ]
        }
      ]
    }
  ]
}