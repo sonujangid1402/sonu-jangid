{
  "nbformat": 4,
  "nbformat_minor": 0,
  "metadata": {
    "colab": {
      "provenance": [],
      "authorship_tag": "ABX9TyOhvQAXsi0SiuIcx2eUJTqt",
      "include_colab_link": true
    },
    "kernelspec": {
      "name": "python3",
      "display_name": "Python 3"
    },
    "language_info": {
      "name": "python"
    }
  },
  "cells": [
    {
      "cell_type": "markdown",
      "metadata": {
        "id": "view-in-github",
        "colab_type": "text"
      },
      "source": [
        "<a href=\"https://colab.research.google.com/github/sonujangid1402/sonu-jangid/blob/main/list_py.ipynb\" target=\"_parent\"><img src=\"https://colab.research.google.com/assets/colab-badge.svg\" alt=\"Open In Colab\"/></a>"
      ]
    },
    {
      "cell_type": "code",
      "execution_count": 8,
      "metadata": {
        "colab": {
          "base_uri": "https://localhost:8080/"
        },
        "id": "jW9AuUZo-61u",
        "outputId": "fbf06868-e636-4728-a095-007d6e5dee79"
      },
      "outputs": [
        {
          "output_type": "stream",
          "name": "stdout",
          "text": [
            "['sonu', 'garima', 'ravi']\n",
            "['sonu', 'garima', 'ravi', 'sejal']\n"
          ]
        }
      ],
      "source": [
        "name=list((\"sonu\",\"garima\",\"ravi\"))\n",
        "print(name)\n",
        "name.append(\"sejal\")\n",
        "print(name)\n"
      ]
    },
    {
      "cell_type": "code",
      "source": [
        "name=list(('apple','papaya','mango'))\n",
        "print(name)\n",
        "name.insert(1,'banana')\n",
        "print(name)"
      ],
      "metadata": {
        "colab": {
          "base_uri": "https://localhost:8080/"
        },
        "id": "6PKjtyInDp3F",
        "outputId": "8332f159-ddcd-4c8b-c5cb-40c096ba7b75"
      },
      "execution_count": 11,
      "outputs": [
        {
          "output_type": "stream",
          "name": "stdout",
          "text": [
            "['apple', 'papaya', 'mango']\n",
            "['apple', 'banana', 'papaya', 'mango']\n"
          ]
        }
      ]
    },
    {
      "cell_type": "code",
      "source": [
        "name=list(('sonu','rashi','garima'))\n",
        "print(name)\n",
        "print(name[0:2])"
      ],
      "metadata": {
        "colab": {
          "base_uri": "https://localhost:8080/"
        },
        "id": "ih2xrk3DFhRc",
        "outputId": "534b2cd9-8220-4e2f-82b3-f13e594e1a81"
      },
      "execution_count": 15,
      "outputs": [
        {
          "output_type": "stream",
          "name": "stdout",
          "text": [
            "['sonu', 'rashi', 'garima']\n",
            "['sonu', 'rashi']\n"
          ]
        }
      ]
    },
    {
      "cell_type": "code",
      "source": [
        "name=list(('sonu','garima','sejal'))\n",
        "print(name)\n",
        "if 'rashi' in name:\n",
        "  print(\"true\")\n",
        "else:\n",
        "  print(\"false\")\n"
      ],
      "metadata": {
        "colab": {
          "base_uri": "https://localhost:8080/"
        },
        "id": "T-CrpjgcGJY6",
        "outputId": "b49df2a1-8309-4b2a-f1c5-9d27150874d1"
      },
      "execution_count": 18,
      "outputs": [
        {
          "output_type": "stream",
          "name": "stdout",
          "text": [
            "['sonu', 'garima', 'sejal']\n",
            "false\n"
          ]
        }
      ]
    },
    {
      "cell_type": "code",
      "source": [
        "name=list(('sonu','garima','rashi'))\n",
        "print(name)\n",
        "surname=list(('jangid','sharma','jain'))\n",
        "print(surname)\n",
        "name.extend(surname)\n",
        "print(name)"
      ],
      "metadata": {
        "colab": {
          "base_uri": "https://localhost:8080/"
        },
        "id": "2B0JEYt_G28O",
        "outputId": "54aff74d-a7b5-4cb6-bb5e-b09bfa5e76df"
      },
      "execution_count": 20,
      "outputs": [
        {
          "output_type": "stream",
          "name": "stdout",
          "text": [
            "['sonu', 'garima', 'rashi']\n",
            "['jangid', 'sharma', 'jain']\n",
            "['sonu', 'garima', 'rashi', 'jangid', 'sharma', 'jain']\n"
          ]
        }
      ]
    },
    {
      "cell_type": "code",
      "source": [
        "name=list(('sonu','garima'))\n",
        "print(name)\n",
        "name.remove(('garima'))\n",
        "print(name)"
      ],
      "metadata": {
        "colab": {
          "base_uri": "https://localhost:8080/"
        },
        "id": "RRK4XwumH6YK",
        "outputId": "eec1333f-14c8-4f54-85a3-8d1369ef473b"
      },
      "execution_count": 21,
      "outputs": [
        {
          "output_type": "stream",
          "name": "stdout",
          "text": [
            "['sonu', 'garima']\n",
            "['sonu']\n"
          ]
        }
      ]
    },
    {
      "cell_type": "code",
      "source": [],
      "metadata": {
        "id": "f6bp-R92IqBr"
      },
      "execution_count": null,
      "outputs": []
    },
    {
      "cell_type": "code",
      "source": [
        "name=list(('sonu','garima'))\n",
        "print(name)\n",
        "name.pop(1)\n",
        "print(name)"
      ],
      "metadata": {
        "colab": {
          "base_uri": "https://localhost:8080/"
        },
        "id": "OLZPVMbiIcgV",
        "outputId": "73e8ea86-0826-4146-891a-df7cab17cf7e"
      },
      "execution_count": 22,
      "outputs": [
        {
          "output_type": "stream",
          "name": "stdout",
          "text": [
            "['sonu', 'garima']\n",
            "['sonu']\n"
          ]
        }
      ]
    }
  ]
}