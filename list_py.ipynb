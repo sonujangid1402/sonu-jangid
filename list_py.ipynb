{
  "nbformat": 4,
  "nbformat_minor": 0,
  "metadata": {
    "colab": {
      "provenance": [],
      "authorship_tag": "ABX9TyPH0g3CX5qPmN2XSZmgFRxx",
      "include_colab_link": true
    },
    "kernelspec": {
      "name": "python3",
      "display_name": "Python 3"
    },
    "language_info": {
      "name": "python"
    }
  },
  "cells": [
    {
      "cell_type": "markdown",
      "metadata": {
        "id": "view-in-github",
        "colab_type": "text"
      },
      "source": [
        "<a href=\"https://colab.research.google.com/github/sonujangid1402/sonu-jangid/blob/main/list_py.ipynb\" target=\"_parent\"><img src=\"https://colab.research.google.com/assets/colab-badge.svg\" alt=\"Open In Colab\"/></a>"
      ]
    },
    {
      "cell_type": "code",
      "execution_count": 15,
      "metadata": {
        "colab": {
          "base_uri": "https://localhost:8080/"
        },
        "id": "v9vAxMc1cmxK",
        "outputId": "c0a496ec-2ec6-4471-a22c-551979f1c938"
      },
      "outputs": [
        {
          "output_type": "stream",
          "name": "stdout",
          "text": [
            "enter the elements3\n",
            "6\n",
            "5\n",
            "4\n",
            "15\n"
          ]
        }
      ],
      "source": [
        "list = []\n",
        "n = int(input(\"enter the elements\"))\n",
        "sum=0\n",
        "for i in range(0,n):\n",
        "  ele = int(input())\n",
        "  sum+=ele\n",
        "  list.append(ele)\n",
        "print(sum)"
      ]
    },
    {
      "cell_type": "code",
      "source": [
        "lst=[]\n",
        "n = int(input(\"enter the number of element:\"))\n",
        "ele1=int(input())\n",
        "max=ele1\n",
        "for i in range(1,n):\n",
        "  ele = int(input())\n",
        "  if ele>max:\n",
        "    max=ele\n",
        "    list.append(ele)\n",
        "print(max)"
      ],
      "metadata": {
        "colab": {
          "base_uri": "https://localhost:8080/"
        },
        "id": "io2GXpJUeVur",
        "outputId": "20214edd-83de-4c96-ef3b-89ac254a32fe"
      },
      "execution_count": 11,
      "outputs": [
        {
          "output_type": "stream",
          "name": "stdout",
          "text": [
            "enter the number of element:5\n",
            "44\n",
            "47\n",
            "22\n",
            "99\n",
            "30\n",
            "99\n"
          ]
        }
      ]
    },
    {
      "cell_type": "code",
      "source": [],
      "metadata": {
        "id": "e8jIyDQ3k2Uq"
      },
      "execution_count": null,
      "outputs": []
    }
  ]
}