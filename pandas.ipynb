{
  "nbformat": 4,
  "nbformat_minor": 0,
  "metadata": {
    "colab": {
      "provenance": [],
      "authorship_tag": "ABX9TyP13Zu4SiSJHCp9sV+nNegV",
      "include_colab_link": true
    },
    "kernelspec": {
      "name": "python3",
      "display_name": "Python 3"
    },
    "language_info": {
      "name": "python"
    }
  },
  "cells": [
    {
      "cell_type": "markdown",
      "metadata": {
        "id": "view-in-github",
        "colab_type": "text"
      },
      "source": [
        "<a href=\"https://colab.research.google.com/github/sonujangid1402/sonu-jangid/blob/main/pandas.ipynb\" target=\"_parent\"><img src=\"https://colab.research.google.com/assets/colab-badge.svg\" alt=\"Open In Colab\"/></a>"
      ]
    },
    {
      "cell_type": "code",
      "execution_count": null,
      "metadata": {
        "colab": {
          "base_uri": "https://localhost:8080/"
        },
        "id": "JcWIp_mcG2TK",
        "outputId": "168334c2-ad04-48bf-f00a-bb401b976c2a"
      },
      "outputs": [
        {
          "output_type": "stream",
          "name": "stdout",
          "text": [
            "Requirement already satisfied: pandas in /usr/local/lib/python3.10/dist-packages (1.5.3)\n",
            "Requirement already satisfied: python-dateutil>=2.8.1 in /usr/local/lib/python3.10/dist-packages (from pandas) (2.8.2)\n",
            "Requirement already satisfied: pytz>=2020.1 in /usr/local/lib/python3.10/dist-packages (from pandas) (2023.4)\n",
            "Requirement already satisfied: numpy>=1.21.0 in /usr/local/lib/python3.10/dist-packages (from pandas) (1.23.5)\n",
            "Requirement already satisfied: six>=1.5 in /usr/local/lib/python3.10/dist-packages (from python-dateutil>=2.8.1->pandas) (1.16.0)\n"
          ]
        }
      ],
      "source": [
        "!pip install pandas"
      ]
    },
    {
      "cell_type": "code",
      "source": [
        "from tabulate import tabulate\n",
        "import pandas as pd\n",
        "\n",
        "dict = {'Name':['sonu','rashi','jyoti','priya'],\n",
        "        'Maths':[88,94,76,84],\n",
        "         'science':[93,75,90,83]}\n",
        "df = pd.DataFrame(dict)\n",
        "\n",
        "print(df)\n",
        "\n"
      ],
      "metadata": {
        "colab": {
          "base_uri": "https://localhost:8080/"
        },
        "id": "cmy8Tz85b8oO",
        "outputId": "5922c223-edc4-4d83-b29d-2017bbe69d48"
      },
      "execution_count": null,
      "outputs": [
        {
          "output_type": "stream",
          "name": "stdout",
          "text": [
            "    Name  Maths  science\n",
            "0   sonu     88       93\n",
            "1  rashi     94       75\n",
            "2  jyoti     76       90\n",
            "3  priya     84       83\n"
          ]
        }
      ]
    },
    {
      "cell_type": "code",
      "source": [
        "from tabulate import tabulate\n",
        "import pandas as pd\n",
        "\n",
        "dict = {'Name':['sonu','rashi','jyoti','priya'],\n",
        "        'Maths':[88,94,76,84],\n",
        "         'science':[93,75,90,83]}\n",
        "df = pd.DataFrame(dict)\n",
        "\n",
        "print(tabulate(df, headers = 'keys', tablefmt = 'psql'))\n",
        "\n"
      ],
      "metadata": {
        "colab": {
          "base_uri": "https://localhost:8080/"
        },
        "id": "7EpJhTq0M7Aj",
        "outputId": "8d7bd076-5046-4aa4-ce4f-9ebb9f9c4cab"
      },
      "execution_count": null,
      "outputs": [
        {
          "output_type": "stream",
          "name": "stdout",
          "text": [
            "+----+--------+---------+-----------+\n",
            "|    | Name   |   Maths |   science |\n",
            "|----+--------+---------+-----------|\n",
            "|  0 | sonu   |      88 |        93 |\n",
            "|  1 | rashi  |      94 |        75 |\n",
            "|  2 | jyoti  |      76 |        90 |\n",
            "|  3 | priya  |      84 |        83 |\n",
            "+----+--------+---------+-----------+\n"
          ]
        }
      ]
    },
    {
      "cell_type": "code",
      "source": [
        "\n",
        "\n"
      ],
      "metadata": {
        "id": "NdQMlcBzNUHB"
      },
      "execution_count": null,
      "outputs": []
    }
  ]
}