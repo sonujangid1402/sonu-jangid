{
  "nbformat": 4,
  "nbformat_minor": 0,
  "metadata": {
    "colab": {
      "provenance": [],
      "authorship_tag": "ABX9TyOFL0Y4jv74WYo7b0Qz3g/V",
      "include_colab_link": true
    },
    "kernelspec": {
      "name": "python3",
      "display_name": "Python 3"
    },
    "language_info": {
      "name": "python"
    }
  },
  "cells": [
    {
      "cell_type": "markdown",
      "metadata": {
        "id": "view-in-github",
        "colab_type": "text"
      },
      "source": [
        "<a href=\"https://colab.research.google.com/github/sonujangid1402/sonu-jangid/blob/main/set_py.ipynb\" target=\"_parent\"><img src=\"https://colab.research.google.com/assets/colab-badge.svg\" alt=\"Open In Colab\"/></a>"
      ]
    },
    {
      "cell_type": "code",
      "execution_count": 3,
      "metadata": {
        "colab": {
          "base_uri": "https://localhost:8080/"
        },
        "id": "TIqv302qwe3x",
        "outputId": "ac8d9174-2cb8-4d4b-ed53-20f9224d0e58"
      },
      "outputs": [
        {
          "output_type": "stream",
          "name": "stdout",
          "text": [
            "{'garima', 'rashi', 'sonu'}\n",
            "<class 'set'>\n",
            "garima\n",
            "rashi\n",
            "sonu\n"
          ]
        }
      ],
      "source": [
        "name={\"sonu\",\"garima\",\"rashi\"}\n",
        "print(name)\n",
        "print(type(name))\n",
        "for x in name:\n",
        "  print(x)\n",
        ""
      ]
    },
    {
      "cell_type": "code",
      "source": [
        "name={\"sonu\",\"garima\",\"rashi\"}\n",
        "print(name)\n",
        "print(type(name))\n",
        "for x in name:\n",
        "  print(x)\n",
        "name.add(\"sejal\")\n",
        "print(name)\n",
        "fruit={\"cherry\"}\n",
        "name.update(fruit)\n",
        "print(name)\n",
        "name.remove(\"cherry\")\n",
        "print(name)\n",
        "name.discard(\"sejal\")\n",
        "print(name)\n",
        "name.clear()\n",
        "print(name)"
      ],
      "metadata": {
        "colab": {
          "base_uri": "https://localhost:8080/"
        },
        "id": "fFMW2k-UyY5y",
        "outputId": "ca6ffa19-ad74-4514-92a7-ab2e65ca94d3"
      },
      "execution_count": 10,
      "outputs": [
        {
          "output_type": "stream",
          "name": "stdout",
          "text": [
            "{'garima', 'rashi', 'sonu'}\n",
            "<class 'set'>\n",
            "garima\n",
            "rashi\n",
            "sonu\n",
            "{'sejal', 'garima', 'rashi', 'sonu'}\n",
            "{'garima', 'sejal', 'rashi', 'cherry', 'sonu'}\n",
            "{'garima', 'sejal', 'rashi', 'sonu'}\n",
            "{'garima', 'rashi', 'sonu'}\n",
            "set()\n"
          ]
        }
      ]
    },
    {
      "cell_type": "code",
      "source": [
        "name={\"sonu\",\"neeyati\",\"khushi\"}\n",
        "print(id(name))\n",
        "del name\n",
        "print(id(name))"
      ],
      "metadata": {
        "colab": {
          "base_uri": "https://localhost:8080/",
          "height": 228
        },
        "id": "ZxYfQqmcyqME",
        "outputId": "4d731751-d3b9-44bf-d972-b61141072547"
      },
      "execution_count": 16,
      "outputs": [
        {
          "output_type": "stream",
          "name": "stdout",
          "text": [
            "136781688651136\n"
          ]
        },
        {
          "output_type": "error",
          "ename": "NameError",
          "evalue": "name 'name' is not defined",
          "traceback": [
            "\u001b[0;31m---------------------------------------------------------------------------\u001b[0m",
            "\u001b[0;31mNameError\u001b[0m                                 Traceback (most recent call last)",
            "\u001b[0;32m<ipython-input-16-cb49ee5affda>\u001b[0m in \u001b[0;36m<cell line: 4>\u001b[0;34m()\u001b[0m\n\u001b[1;32m      2\u001b[0m \u001b[0mprint\u001b[0m\u001b[0;34m(\u001b[0m\u001b[0mid\u001b[0m\u001b[0;34m(\u001b[0m\u001b[0mname\u001b[0m\u001b[0;34m)\u001b[0m\u001b[0;34m)\u001b[0m\u001b[0;34m\u001b[0m\u001b[0;34m\u001b[0m\u001b[0m\n\u001b[1;32m      3\u001b[0m \u001b[0;32mdel\u001b[0m \u001b[0mname\u001b[0m\u001b[0;34m\u001b[0m\u001b[0;34m\u001b[0m\u001b[0m\n\u001b[0;32m----> 4\u001b[0;31m \u001b[0mprint\u001b[0m\u001b[0;34m(\u001b[0m\u001b[0mid\u001b[0m\u001b[0;34m(\u001b[0m\u001b[0mname\u001b[0m\u001b[0;34m)\u001b[0m\u001b[0;34m)\u001b[0m\u001b[0;34m\u001b[0m\u001b[0;34m\u001b[0m\u001b[0m\n\u001b[0m",
            "\u001b[0;31mNameError\u001b[0m: name 'name' is not defined"
          ]
        }
      ]
    },
    {
      "cell_type": "code",
      "source": [
        "name={\"sonu\",\"sejal\",\"garima\"}\n",
        "surname={\"jangid\",\"rashi\",\"sharma\"}\n",
        "name1=name.union(surname)\n",
        "print(name1)"
      ],
      "metadata": {
        "colab": {
          "base_uri": "https://localhost:8080/"
        },
        "id": "Y7y6KhQv1skm",
        "outputId": "4d08cf32-8961-4ce1-83a9-66976bf67713"
      },
      "execution_count": 12,
      "outputs": [
        {
          "output_type": "stream",
          "name": "stdout",
          "text": [
            "{'sharma', 'garima', 'jangid', 'sejal', 'sonu', 'rashi'}\n"
          ]
        }
      ]
    },
    {
      "cell_type": "code",
      "source": [
        "name={\"sonu\",\"sejal\",\"garima\"}\n",
        "surname={\"jangid\",\"sonu\",\"sharma\"}\n",
        "name1=name.intersection(surname)\n",
        "print(name1)"
      ],
      "metadata": {
        "colab": {
          "base_uri": "https://localhost:8080/"
        },
        "id": "M_NSHQau1JpH",
        "outputId": "bc3c2cdc-5898-4911-b7e8-25e9f925fa3b"
      },
      "execution_count": 14,
      "outputs": [
        {
          "output_type": "stream",
          "name": "stdout",
          "text": [
            "{'sonu'}\n"
          ]
        }
      ]
    },
    {
      "cell_type": "code",
      "source": [
        "name={\"sonu\",\"sejal\",\"garima\"}\n",
        "surname={\"jangid\",\"sonu\",\"sharma\"}\n",
        "name1=name.difference(surname)\n",
        "print(name1)"
      ],
      "metadata": {
        "colab": {
          "base_uri": "https://localhost:8080/"
        },
        "id": "iXg7p7x22hlU",
        "outputId": "1e66d24b-6840-46e6-da8b-15add7b9afaf"
      },
      "execution_count": 15,
      "outputs": [
        {
          "output_type": "stream",
          "name": "stdout",
          "text": [
            "{'garima', 'sejal'}\n"
          ]
        }
      ]
    },
    {
      "cell_type": "code",
      "source": [],
      "metadata": {
        "id": "7uNEejvY28-P"
      },
      "execution_count": null,
      "outputs": []
    }
  ]
}