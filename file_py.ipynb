{
  "nbformat": 4,
  "nbformat_minor": 0,
  "metadata": {
    "colab": {
      "provenance": [],
      "authorship_tag": "ABX9TyNcUSHleDCs2NXENlgEhl9n",
      "include_colab_link": true
    },
    "kernelspec": {
      "name": "python3",
      "display_name": "Python 3"
    },
    "language_info": {
      "name": "python"
    }
  },
  "cells": [
    {
      "cell_type": "markdown",
      "metadata": {
        "id": "view-in-github",
        "colab_type": "text"
      },
      "source": [
        "<a href=\"https://colab.research.google.com/github/sonujangid1402/sonu-jangid/blob/main/file_py.ipynb\" target=\"_parent\"><img src=\"https://colab.research.google.com/assets/colab-badge.svg\" alt=\"Open In Colab\"/></a>"
      ]
    },
    {
      "cell_type": "code",
      "execution_count": null,
      "metadata": {
        "colab": {
          "base_uri": "https://localhost:8080/"
        },
        "id": "wn9dwxfIe2ty",
        "outputId": "03a9bbad-64d3-45e0-d77f-790ac08ca0b6"
      },
      "outputs": [
        {
          "output_type": "stream",
          "name": "stdout",
          "text": [
            "i am sonu jangid\n",
            "\n"
          ]
        }
      ],
      "source": [
        "s1=open(\"sonu.txt\",\"r\")\n",
        "print(s1.read())"
      ]
    },
    {
      "cell_type": "code",
      "source": [
        "s1=open(\"sonu.txt\",\"r\")\n",
        "print(s1.read())"
      ],
      "metadata": {
        "colab": {
          "base_uri": "https://localhost:8080/"
        },
        "id": "6QNbG2pwg6Cm",
        "outputId": "62ebf3b9-8fe6-4228-d360-6cc326f4605b"
      },
      "execution_count": null,
      "outputs": [
        {
          "output_type": "stream",
          "name": "stdout",
          "text": [
            "i am sonu jangid\n",
            "i am bca third year student.\n",
            "\n"
          ]
        }
      ]
    },
    {
      "cell_type": "code",
      "source": [
        "s1=open(\"sonu.txt\",\"a\")\n",
        "s1.write(\"\\n new content added!\")\n",
        "s1.close()\n",
        "s1=open(\"sonu.txt\",\"r\")\n",
        "print(s1.read())"
      ],
      "metadata": {
        "colab": {
          "base_uri": "https://localhost:8080/"
        },
        "id": "XFffHoXQizTp",
        "outputId": "ae15b4d1-269a-4dae-dc2f-358741d9964c"
      },
      "execution_count": null,
      "outputs": [
        {
          "output_type": "stream",
          "name": "stdout",
          "text": [
            "i am sonu jangid\n",
            "i am bca third year student.\n",
            "new content added!\n",
            " new content added!\n"
          ]
        }
      ]
    },
    {
      "cell_type": "code",
      "source": [
        "s1=open(\"sonu.txt\",\"r\")\n",
        "for x in s1:\n",
        "  print(x)"
      ],
      "metadata": {
        "colab": {
          "base_uri": "https://localhost:8080/"
        },
        "id": "ABgo1ko7jovx",
        "outputId": "dd521161-6c6a-445d-bc1e-4c7c21131bea"
      },
      "execution_count": null,
      "outputs": [
        {
          "output_type": "stream",
          "name": "stdout",
          "text": [
            "i am sonu jangid\n",
            "\n",
            "i am bca third year student.\n",
            "\n",
            "new content added!\n"
          ]
        }
      ]
    },
    {
      "cell_type": "code",
      "source": [
        "s1=open(\"sonu.txt\",\"r\")\n",
        "for x in s1.readlines():\n",
        "  print(x)"
      ],
      "metadata": {
        "colab": {
          "base_uri": "https://localhost:8080/"
        },
        "id": "jKzenqkPkrfr",
        "outputId": "bb3c29dc-373e-4b9a-8e74-dc53df8a1c6a"
      },
      "execution_count": null,
      "outputs": [
        {
          "output_type": "stream",
          "name": "stdout",
          "text": [
            "i am sonu jangid\n",
            "\n",
            "i am bca third year student.\n",
            "\n",
            "new content added!\n",
            "\n",
            " new content added!\n"
          ]
        }
      ]
    }
  ]
}