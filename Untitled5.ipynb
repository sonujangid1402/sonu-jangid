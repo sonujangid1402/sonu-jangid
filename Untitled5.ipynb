{
  "nbformat": 4,
  "nbformat_minor": 0,
  "metadata": {
    "colab": {
      "provenance": [],
      "authorship_tag": "ABX9TyMvQfAnfxlGbaGsGA4nCYmn",
      "include_colab_link": true
    },
    "kernelspec": {
      "name": "python3",
      "display_name": "Python 3"
    },
    "language_info": {
      "name": "python"
    }
  },
  "cells": [
    {
      "cell_type": "markdown",
      "metadata": {
        "id": "view-in-github",
        "colab_type": "text"
      },
      "source": [
        "<a href=\"https://colab.research.google.com/github/sonujangid1402/sonu-jangid/blob/main/Untitled5.ipynb\" target=\"_parent\"><img src=\"https://colab.research.google.com/assets/colab-badge.svg\" alt=\"Open In Colab\"/></a>"
      ]
    },
    {
      "cell_type": "code",
      "execution_count": 7,
      "metadata": {
        "colab": {
          "base_uri": "https://localhost:8080/"
        },
        "id": "vagdIj0vHh4c",
        "outputId": "be87ddd3-c62f-4239-b0ac-5de4600ac5ea"
      },
      "outputs": [
        {
          "output_type": "stream",
          "name": "stdout",
          "text": [
            "enter no.5\n",
            "prime\n",
            "prime\n",
            "prime\n"
          ]
        }
      ],
      "source": [
        "a=int(input(\"enter no.\"))\n",
        "flag=0\n",
        "for i in range(2,a):\n",
        " if a%i==0:\n",
        "   flag=1\n",
        " if flag==0:\n",
        "   print (\"prime\")\n",
        " else:\n",
        "   print (\"not prime\")"
      ]
    },
    {
      "cell_type": "code",
      "source": [
        "str=\"sonu\"\n",
        "str1=\"\"\n",
        "x=len(str)\n",
        "while x>-0:\n",
        "  x=x-1\n",
        "  str1+=str[x]\n",
        "print(str1)\n"
      ],
      "metadata": {
        "colab": {
          "base_uri": "https://localhost:8080/"
        },
        "id": "fJW5ZsHeL_e1",
        "outputId": "53ad78ac-e4a5-4dbe-bd79-5b9ee4f974ea"
      },
      "execution_count": 22,
      "outputs": [
        {
          "output_type": "stream",
          "name": "stdout",
          "text": [
            "unos\n"
          ]
        }
      ]
    },
    {
      "cell_type": "code",
      "source": [
        "str=\"my name is sonu\"\n",
        "str1=\"\"\n",
        "x=len(str)\n",
        "while x>-0:\n",
        "  x=x-1\n",
        "  str1+=str[x]\n",
        "print(str1)"
      ],
      "metadata": {
        "colab": {
          "base_uri": "https://localhost:8080/"
        },
        "id": "eSQ7Jz8KQn13",
        "outputId": "f70b8c0c-c491-48c1-8146-bda17a32e900"
      },
      "execution_count": 29,
      "outputs": [
        {
          "output_type": "stream",
          "name": "stdout",
          "text": [
            "unos si eman ym\n"
          ]
        }
      ]
    }
  ]
}