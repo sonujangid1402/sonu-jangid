{
  "nbformat": 4,
  "nbformat_minor": 0,
  "metadata": {
    "colab": {
      "provenance": [],
      "authorship_tag": "ABX9TyPHtn35Rjoxs5tp51uQFpn6",
      "include_colab_link": true
    },
    "kernelspec": {
      "name": "python3",
      "display_name": "Python 3"
    },
    "language_info": {
      "name": "python"
    }
  },
  "cells": [
    {
      "cell_type": "markdown",
      "metadata": {
        "id": "view-in-github",
        "colab_type": "text"
      },
      "source": [
        "<a href=\"https://colab.research.google.com/github/sonujangid1402/sonu-jangid/blob/main/Untitled5.ipynb\" target=\"_parent\"><img src=\"https://colab.research.google.com/assets/colab-badge.svg\" alt=\"Open In Colab\"/></a>"
      ]
    },
    {
      "cell_type": "code",
      "execution_count": 7,
      "metadata": {
        "colab": {
          "base_uri": "https://localhost:8080/"
        },
        "id": "vagdIj0vHh4c",
        "outputId": "be87ddd3-c62f-4239-b0ac-5de4600ac5ea"
      },
      "outputs": [
        {
          "output_type": "stream",
          "name": "stdout",
          "text": [
            "enter no.5\n",
            "prime\n",
            "prime\n",
            "prime\n"
          ]
        }
      ],
      "source": [
        "a=int(input(\"enter no.\"))\n",
        "flag=0\n",
        "for i in range(2,a):\n",
        " if a%i==0:\n",
        "   flag=1\n",
        " if flag==0:\n",
        "   print (\"prime\")\n",
        " else:\n",
        "   print (\"not prime\")"
      ]
    },
    {
      "cell_type": "code",
      "source": [
        "str=\"sonu\"\n",
        "str1=\"\"\n",
        "x=len(str)\n",
        "while x>0:\n",
        "  x=x-1\n",
        "  str1+=str[x]\n",
        "print(str1)\n"
      ],
      "metadata": {
        "colab": {
          "base_uri": "https://localhost:8080/"
        },
        "id": "fJW5ZsHeL_e1",
        "outputId": "bc3be9e7-4943-4d86-8bf6-72ddd4ab3a61"
      },
      "execution_count": 33,
      "outputs": [
        {
          "output_type": "stream",
          "name": "stdout",
          "text": [
            "unos\n"
          ]
        }
      ]
    },
    {
      "cell_type": "code",
      "source": [
        "str=\"my name is sonu\"\n",
        "str1=\"\"\n",
        "x=len(str)\n",
        "while x>0:\n",
        "  x=x-1\n",
        "  str1+=str[x]\n",
        "print(str1)"
      ],
      "metadata": {
        "colab": {
          "base_uri": "https://localhost:8080/"
        },
        "id": "eSQ7Jz8KQn13",
        "outputId": "7963953b-8093-4758-cfbf-bcc3ab5872c0"
      },
      "execution_count": 73,
      "outputs": [
        {
          "output_type": "stream",
          "name": "stdout",
          "text": [
            "unos si eman ym\n"
          ]
        }
      ]
    },
    {
      "cell_type": "code",
      "source": [],
      "metadata": {
        "id": "Gdx1823hSxLv"
      },
      "execution_count": 73,
      "outputs": []
    }
  ]
}